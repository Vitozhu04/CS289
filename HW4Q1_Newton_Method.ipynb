{
 "cells": [
  {
   "cell_type": "code",
   "execution_count": 104,
   "metadata": {},
   "outputs": [],
   "source": [
    "import numpy as np"
   ]
  },
  {
   "cell_type": "code",
   "execution_count": 105,
   "metadata": {},
   "outputs": [],
   "source": [
    "X = np.mat([[0,3,1],\n",
    "            [1,3,1],\n",
    "            [0,1,1],\n",
    "            [1,1,1]])\n",
    "\n",
    "b = np.mat([[0.0474],\n",
    "            [0.2689],\n",
    "            [-0.7311],\n",
    "            [-0.2689]])\n",
    "\n",
    "s0 = np.mat([[0.9526],\n",
    "            [0.7311],\n",
    "            [0.7311],\n",
    "            [0.2689]])\n",
    "\n",
    "w0 = np.mat([[-2],\n",
    "             [1],\n",
    "             [0]])"
   ]
  },
  {
   "cell_type": "code",
   "execution_count": 117,
   "metadata": {},
   "outputs": [
    {
     "data": {
      "text/plain": [
       "matrix([[-0.28  ],\n",
       "        [ 0.1911],\n",
       "        [ 0.6837]])"
      ]
     },
     "execution_count": 117,
     "metadata": {},
     "output_type": "execute_result"
    }
   ],
   "source": [
    "J1_w0 = -np.dot(X.T,y-s0) + 2* 0.07*(w0)\n",
    "J1_w0"
   ]
  },
  {
   "cell_type": "code",
   "execution_count": 118,
   "metadata": {},
   "outputs": [
    {
     "data": {
      "text/plain": [
       "matrix([[0.53318558, 0.92637116, 0.53318558],\n",
       "        [0.92637116, 2.70889985, 1.25842367],\n",
       "        [0.53318558, 1.25842367, 0.77493161]])"
      ]
     },
     "execution_count": 118,
     "metadata": {},
     "output_type": "execute_result"
    }
   ],
   "source": [
    "omega = [[s0[0]*(1-s0[0]),0,0,0],\n",
    "         [0,s0[1]*(1-s0[1]),0,0],\n",
    "         [0,0,s0[2]*(1-s0[2]),0],\n",
    "         [0,0,0,s0[3]*(1-s0[3])]]\n",
    "\n",
    "J2_w0 = np.dot(np.dot(X.T,omega),X)\n",
    "J2_w0 = J2_w0 + 2*0.07\n",
    "J2_w0"
   ]
  },
  {
   "cell_type": "code",
   "execution_count": 119,
   "metadata": {},
   "outputs": [
    {
     "data": {
      "text/plain": [
       "matrix([[ 2.14609977],\n",
       "        [ 2.00437732],\n",
       "        [-5.36598682]])"
      ]
     },
     "execution_count": 119,
     "metadata": {},
     "output_type": "execute_result"
    }
   ],
   "source": [
    "w1 = w0 - np.linalg.inv(J2_w0).dot(J1_w0)\n",
    "w1"
   ]
  },
  {
   "cell_type": "code",
   "execution_count": 109,
   "metadata": {},
   "outputs": [
    {
     "data": {
      "text/plain": [
       "matrix([[0.64714514]])"
      ]
     },
     "execution_count": 109,
     "metadata": {},
     "output_type": "execute_result"
    }
   ],
   "source": [
    "X[0,:].dot(w1)"
   ]
  },
  {
   "cell_type": "code",
   "execution_count": 120,
   "metadata": {},
   "outputs": [
    {
     "data": {
      "text/plain": [
       "matrix([[0.65636684],\n",
       "        [0.9423097 ],\n",
       "        [0.03351705],\n",
       "        [0.22872762]])"
      ]
     },
     "execution_count": 120,
     "metadata": {},
     "output_type": "execute_result"
    }
   ],
   "source": [
    "s11 = 1/(1+np.exp(-X[0,:].dot(w1)))\n",
    "s12 = 1/(1+np.exp(-X[1,:].dot(w1)))\n",
    "s13 = 1/(1+np.exp(-X[2,:].dot(w1)))\n",
    "s14 = 1/(1+np.exp(-X[3,:].dot(w1)))\n",
    "\n",
    "s1 = np.vstack((s11,s12,s13,s14))\n",
    "s1"
   ]
  },
  {
   "cell_type": "code",
   "execution_count": 121,
   "metadata": {},
   "outputs": [],
   "source": [
    "y = [[1],\n",
    "    [1],\n",
    "    [0],\n",
    "    [0]]"
   ]
  },
  {
   "cell_type": "code",
   "execution_count": 125,
   "metadata": {},
   "outputs": [
    {
     "data": {
      "text/plain": [
       "matrix([[ 0.47149129],\n",
       "        [-0.6611129 ],\n",
       "        [-0.89031695]])"
      ]
     },
     "execution_count": 125,
     "metadata": {},
     "output_type": "execute_result"
    }
   ],
   "source": [
    "J1_w1 = -X.T.dot(y-s1) + 2*0.07*w1\n",
    "J1_w1"
   ]
  },
  {
   "cell_type": "code",
   "execution_count": 126,
   "metadata": {},
   "outputs": [
    {
     "data": {
      "text/plain": [
       "matrix([[0.37077343, 0.47949769, 0.37077343],\n",
       "        [0.47949769, 2.86800883, 1.18853958],\n",
       "        [0.37077343, 1.18853958, 0.62871649]])"
      ]
     },
     "execution_count": 126,
     "metadata": {},
     "output_type": "execute_result"
    }
   ],
   "source": [
    "omega = [[s1[0]*(1-s1[0]),0,0,0],\n",
    "         [0,s1[1]*(1-s1[1]),0,0],\n",
    "         [0,0,s1[2]*(1-s1[2]),0],\n",
    "         [0,0,0,s1[3]*(1-s1[3])]]\n",
    "\n",
    "J2_w1 = np.dot(np.dot(X.T,omega),X)\n",
    "J2_w1 = J2_w1 + 2*0.07\n",
    "J2_w1"
   ]
  },
  {
   "cell_type": "code",
   "execution_count": 127,
   "metadata": {},
   "outputs": [
    {
     "data": {
      "text/plain": [
       "matrix([[-16.44705934],\n",
       "        [ -6.26854777],\n",
       "        [ 22.65437748]])"
      ]
     },
     "execution_count": 127,
     "metadata": {},
     "output_type": "execute_result"
    }
   ],
   "source": [
    "w2 = w1 - np.linalg.inv(J2_w1).dot(J1_w1)\n",
    "w2"
   ]
  },
  {
   "cell_type": "code",
   "execution_count": 130,
   "metadata": {},
   "outputs": [
    {
     "data": {
      "text/plain": [
       "matrix([[ 13.66314247,   4.87034861, -17.26458961],\n",
       "        [  4.87034861,   3.34595131,  -9.1974546 ],\n",
       "        [-17.26458961,  -9.1974546 ,  29.1590726 ]])"
      ]
     },
     "execution_count": 130,
     "metadata": {},
     "output_type": "execute_result"
    }
   ],
   "source": [
    "np.linalg.inv(J2_w1)"
   ]
  },
  {
   "cell_type": "code",
   "execution_count": null,
   "metadata": {},
   "outputs": [],
   "source": []
  }
 ],
 "metadata": {
  "kernelspec": {
   "display_name": "Python 3",
   "language": "python",
   "name": "python3"
  },
  "language_info": {
   "codemirror_mode": {
    "name": "ipython",
    "version": 3
   },
   "file_extension": ".py",
   "mimetype": "text/x-python",
   "name": "python",
   "nbconvert_exporter": "python",
   "pygments_lexer": "ipython3",
   "version": "3.5.5"
  }
 },
 "nbformat": 4,
 "nbformat_minor": 2
}
