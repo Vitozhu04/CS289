{
 "cells": [
  {
   "cell_type": "markdown",
   "metadata": {},
   "source": [
    "### 1.DataLoading"
   ]
  },
  {
   "cell_type": "code",
   "execution_count": 1,
   "metadata": {
    "scrolled": true
   },
   "outputs": [
    {
     "name": "stdout",
     "output_type": "stream",
     "text": [
      "\n",
      "loaded mnist data!\n",
      "test_data (10000, 784)\n",
      "training_data (60000, 784)\n",
      "training_labels (60000, 1)\n",
      "\n",
      "loaded spam data!\n",
      "test_data (5857, 32)\n",
      "training_data (5172, 32)\n",
      "training_labels (5172, 1)\n",
      "\n",
      "loaded cifar10 data!\n",
      "test_data (10000, 3072)\n",
      "training_data (50000, 3072)\n",
      "training_labels (50000, 1)\n"
     ]
    }
   ],
   "source": [
    "import sys\n",
    "if sys.version_info[0] < 3:\n",
    "    raise Exception(\"Python 3 not detected.\")\n",
    "\n",
    "import numpy as np\n",
    "import matplotlib as plt\n",
    "from sklearn import svm\n",
    "from scipy import io\n",
    "\n",
    "for data_name in [\"mnist\", \"spam\", \"cifar10\"]:\n",
    "    data = io.loadmat(\"data/%s_data.mat\" % data_name)\n",
    "    print(\"\\nloaded %s data!\" % data_name)\n",
    "    fields= \"test_data\", \"training_data\", \"training_labels\"\n",
    "    for field in fields:\n",
    "        print(field, data[field].shape)"
   ]
  },
  {
   "cell_type": "markdown",
   "metadata": {},
   "source": [
    "### 2.Data Partitioning"
   ]
  },
  {
   "cell_type": "code",
   "execution_count": 3,
   "metadata": {
    "collapsed": true
   },
   "outputs": [],
   "source": [
    "def shuffleFun(data):\n",
    "    np.random.shuffle(data)\n",
    "\n",
    "# For the MNIST dataset, write code that sets aside 10,000 training images as a validation set.\n",
    "MNIST_data = io.loadmat(\"data/mnist_data.mat\")\n",
    "\n",
    "#shuffle dataset\n",
    "np.random.seed(58)\n",
    "MNIST_tra = MNIST_data[\"training_data\"]\n",
    "shuffleFun(MNIST_tra)\n",
    "MNIST_x_val = MNIST_tra[:10000]\n",
    "MNIST_x_train = MNIST_tra[10000:]\n",
    "\n",
    "np.random.seed(58)\n",
    "MNIST_tra_y = MNIST_data[\"training_labels\"]\n",
    "shuffleFun(MNIST_tra_y)\n",
    "MNIST_y_val = MNIST_tra_y[:10000]\n",
    "MNIST_y_train = MNIST_tra_y[10000:]\n",
    "\n",
    "# For the spam dataset, write code that sets aside 20% of the training data as a validation set.\n",
    "spam_data = io.loadmat(\"data/spam_data.mat\")\n",
    "\n",
    "#shuffle dataset\n",
    "np.random.seed(68)\n",
    "spam_tra = spam_data[\"training_data\"]\n",
    "shuffleFun(spam_tra)\n",
    "spam_x_val = spam_tra[:int(0.2*len(spam_tra))]\n",
    "spam_x_train = spam_tra[int(0.2*len(spam_tra)):]\n",
    "\n",
    "np.random.seed(68)\n",
    "spam_tra_y = spam_data[\"training_labels\"]\n",
    "shuffleFun(spam_tra_y)\n",
    "spam_y_val = spam_tra_y[:int(0.2*len(spam_tra))]\n",
    "spam_y_train = spam_tra_y[int(0.2*len(spam_tra)):]\n",
    "\n",
    "# For the CIFAR-10 dataset, write code that sets aside 5,000 training images as a validation set.\n",
    "# Be sure to shuffle your data before splitting it to make sure all the classes are represented in\n",
    "# your partitions.\n",
    "cifar10_data = io.loadmat(\"data/cifar10_data.mat\")\n",
    "\n",
    "#shuffle dataset\n",
    "np.random.seed(78)\n",
    "cifar10_tra = cifar10_data[\"training_data\"]\n",
    "shuffleFun(cifar10_tra)\n",
    "cifar10_x_val = cifar10_tra[:5000]\n",
    "cifar10_x_train = cifar10_tra[5000:]\n",
    "\n",
    "np.random.seed(78)\n",
    "cifar10_tra_y = cifar10_data[\"training_labels\"]\n",
    "shuffleFun(cifar10_tra_y)\n",
    "cifar10_y_val = cifar10_tra_y[:5000]\n",
    "cifar10_y_train = cifar10_tra_y[5000:]"
   ]
  },
  {
   "cell_type": "markdown",
   "metadata": {},
   "source": [
    "### 3.Support Vector Machines: Coding"
   ]
  },
  {
   "cell_type": "code",
   "execution_count": 2,
   "metadata": {
    "collapsed": true
   },
   "outputs": [],
   "source": [
    "from sklearn import svm\n",
    "from sklearn import metrics as sm\n",
    "from matplotlib import pyplot as plt"
   ]
  },
  {
   "cell_type": "code",
   "execution_count": 4,
   "metadata": {},
   "outputs": [
    {
     "data": {
      "image/png": "[encoded data removed]",
      "text/plain": [
       "<Figure size 600x400 with 1 Axes>"
      ]
     },
     "metadata": {},
     "output_type": "display_data"
    }
   ],
   "source": [
    "#train the model\n",
    "clf_mnist = svm.SVC(kernel = 'linear')\n",
    "\n",
    "dataNum_mnist = [100, 200, 500, 1000, 2000, 5000, 10000]\n",
    "error_tra_mnist = []\n",
    "error_val_mnist = []\n",
    "\n",
    "for num in dataNum_mnist:\n",
    "    clf_mnist.fit(MNIST_x_train[:num], MNIST_y_train[:num].ravel())\n",
    "    y_pred_tra = clf_mnist.predict(MNIST_x_train)\n",
    "    y_pred_val = clf_mnist.predict(MNIST_x_val)\n",
    "    error_tra_mnist.append(sm.accuracy_score(MNIST_y_train, y_pred_tra))\n",
    "    error_val_mnist.append(sm.accuracy_score(MNIST_y_val, y_pred_val))\n",
    "\n",
    "## draw the error line\n",
    "%matplotlib inline\n",
    "plt.xlabel(\"Number of MNIST training dataset\")\n",
    "plt.ylabel(\"Accuracy\")\n",
    "plt.plot(dataNum_mnist, error_tra_mnist, label=\"training\")\n",
    "plt.plot(dataNum_mnist, error_val_mnist, label=\"validation\")\n",
    "plt.show()"
   ]
  },
  {
   "cell_type": "code",
   "execution_count": 5,
   "metadata": {},
   "outputs": [
    {
     "data": {
      "image/png": "[encoded data removed]",
      "text/plain": [
       "<Figure size 600x400 with 1 Axes>"
      ]
     },
     "metadata": {},
     "output_type": "display_data"
    }
   ],
   "source": [
    "#train the model\n",
    "clf_spam = svm.SVC(kernel = 'linear')\n",
    "\n",
    "dataNum_spam = [100, 200, 500, 1000, 2000, len(spam_x_train)]\n",
    "error_tra_spam = []\n",
    "error_val_spam = []\n",
    "\n",
    "for num in dataNum_spam:\n",
    "    clf_spam.fit(spam_x_train[:num], spam_y_train[:num].ravel())\n",
    "    y_pred_tra = clf_spam.predict(spam_x_train)\n",
    "    y_pred_val = clf_spam.predict(spam_x_val)\n",
    "    error_tra_spam.append(sm.accuracy_score(spam_y_train, y_pred_tra))\n",
    "    error_val_spam.append(sm.accuracy_score(spam_y_val, y_pred_val))\n",
    "\n",
    "## draw the error line\n",
    "%matplotlib inline\n",
    "plt.xlabel(\"Number of spam training dataset\")\n",
    "plt.ylabel(\"Accuracy\")\n",
    "plt.plot(dataNum_spam, error_tra_spam, label=\"training\")\n",
    "plt.plot(dataNum_spam, error_val_spam, label=\"validation\")\n",
    "plt.show()"
   ]
  },
  {
   "cell_type": "code",
   "execution_count": 6,
   "metadata": {},
   "outputs": [
    {
     "data": {
      "image/png": "[encoded data removed]",
      "text/plain": [
       "<Figure size 600x400 with 1 Axes>"
      ]
     },
     "metadata": {},
     "output_type": "display_data"
    }
   ],
   "source": [
    "#train the model\n",
    "clf_cifar10 = svm.SVC(kernel = 'linear')\n",
    "\n",
    "dataNum_cifar10 = [100, 200, 500, 1000, 2000, 5000]\n",
    "error_tra_cifar10 = []\n",
    "error_val_cifar10 = []\n",
    "\n",
    "for num in dataNum_cifar10:\n",
    "    clf_cifar10.fit(cifar10_x_train[:num], cifar10_y_train[:num].ravel())\n",
    "    y_pred_tra = clf_cifar10.predict(cifar10_x_train)\n",
    "    y_pred_val = clf_cifar10.predict(cifar10_x_val)\n",
    "    error_tra_cifar10.append(sm.accuracy_score(cifar10_y_train, y_pred_tra))\n",
    "    error_val_cifar10.append(sm.accuracy_score(cifar10_y_val, y_pred_val))\n",
    "\n",
    "## draw the error line\n",
    "%matplotlib inline\n",
    "plt.xlabel(\"Number of cifar10 training dataset\")\n",
    "plt.ylabel(\"Accuracy\")\n",
    "plt.plot(dataNum_cifar10, error_tra_cifar10, label=\"training\")\n",
    "plt.plot(dataNum_cifar10, error_val_cifar10, label=\"validation\")\n",
    "plt.show()"
   ]
  },
  {
   "cell_type": "markdown",
   "metadata": {},
   "source": [
    "### 4.Hyperparameter Tuning"
   ]
  },
  {
   "cell_type": "code",
   "execution_count": 7,
   "metadata": {
    "scrolled": true
   },
   "outputs": [
    {
     "ename": "NameError",
     "evalue": "name 'paramC' is not defined",
     "output_type": "error",
     "traceback": [
      "\u001b[1;31m---------------------------------------------------------------------------\u001b[0m",
      "\u001b[1;31mNameError\u001b[0m                                 Traceback (most recent call last)",
      "\u001b[1;32m<ipython-input-7-54a9e3a985f3>\u001b[0m in \u001b[0;36m<module>\u001b[1;34m()\u001b[0m\n\u001b[0;32m     14\u001b[0m \u001b[0mplt\u001b[0m\u001b[1;33m.\u001b[0m\u001b[0mxlabel\u001b[0m\u001b[1;33m(\u001b[0m\u001b[1;34m\"Value of C in training MNIST dataset\"\u001b[0m\u001b[1;33m)\u001b[0m\u001b[1;33m\u001b[0m\u001b[0m\n\u001b[0;32m     15\u001b[0m \u001b[0mplt\u001b[0m\u001b[1;33m.\u001b[0m\u001b[0mylabel\u001b[0m\u001b[1;33m(\u001b[0m\u001b[1;34m\"Accuracy\"\u001b[0m\u001b[1;33m)\u001b[0m\u001b[1;33m\u001b[0m\u001b[0m\n\u001b[1;32m---> 16\u001b[1;33m \u001b[0mplt\u001b[0m\u001b[1;33m.\u001b[0m\u001b[0mplot\u001b[0m\u001b[1;33m(\u001b[0m\u001b[0mparamC\u001b[0m\u001b[1;33m,\u001b[0m \u001b[0merror_tra_mnist_c\u001b[0m\u001b[1;33m,\u001b[0m \u001b[0mlabel\u001b[0m\u001b[1;33m=\u001b[0m\u001b[1;34m\"training\"\u001b[0m\u001b[1;33m)\u001b[0m\u001b[1;33m\u001b[0m\u001b[0m\n\u001b[0m\u001b[0;32m     17\u001b[0m \u001b[0mplt\u001b[0m\u001b[1;33m.\u001b[0m\u001b[0mplot\u001b[0m\u001b[1;33m(\u001b[0m\u001b[0mparamC\u001b[0m\u001b[1;33m,\u001b[0m \u001b[0merror_val_mnist_c\u001b[0m\u001b[1;33m,\u001b[0m \u001b[0mlabel\u001b[0m\u001b[1;33m=\u001b[0m\u001b[1;34m\"validation\"\u001b[0m\u001b[1;33m)\u001b[0m\u001b[1;33m\u001b[0m\u001b[0m\n\u001b[0;32m     18\u001b[0m \u001b[0mplt\u001b[0m\u001b[1;33m.\u001b[0m\u001b[0mshow\u001b[0m\u001b[1;33m(\u001b[0m\u001b[1;33m)\u001b[0m\u001b[1;33m\u001b[0m\u001b[0m\n",
      "\u001b[1;31mNameError\u001b[0m: name 'paramC' is not defined"
     ]
    },
    {
     "data": {
      "image/png": "[encoded data removed]",
      "text/plain": [
       "<Figure size 600x400 with 1 Axes>"
      ]
     },
     "metadata": {},
     "output_type": "display_data"
    }
   ],
   "source": [
    "error_tra_mnist_c = []\n",
    "error_val_mnist_c = []\n",
    "#train the model\n",
    "for c in range(-10,10,1):\n",
    "    clf_mnist_c = svm.SVC(C=10**c, kernel = 'linear')\n",
    "    clf_mnist_c.fit(MNIST_x_train[:10000], MNIST_y_train[:10000].ravel())\n",
    "    y_pred_tra = clf_mnist_c.predict(MNIST_x_train)\n",
    "    y_pred_val = clf_mnist_c.predict(MNIST_x_val)\n",
    "    error_tra_mnist_c.append(sm.accuracy_score(MNIST_y_train, y_pred_tra))\n",
    "    error_val_mnist_c.append(sm.accuracy_score(MNIST_y_val, y_pred_val))\n",
    "\n",
    "## draw the error line\n",
    "paramC = []\n",
    "for c in range(-10,10,1):\n",
    "    paramC.append(c)\n",
    "    print(c)\n",
    "    \n",
    "%matplotlib inline\n",
    "plt.xlabel(\"Value of C in training MNIST dataset\")\n",
    "plt.ylabel(\"Accuracy\")\n",
    "plt.plot(paramC,error_tra_mnist_c, label=\"training\")\n",
    "plt.plot(paramC, error_val_mnist_c, label=\"validation\")\n",
    "plt.show()\n",
    "\n",
    "# 10^-6 should be the best C to have"
   ]
  },
  {
   "cell_type": "markdown",
   "metadata": {},
   "source": [
    "### 5.K-Fold Cross-Validation"
   ]
  },
  {
   "cell_type": "code",
   "execution_count": 4,
   "metadata": {
    "scrolled": true
   },
   "outputs": [
    {
     "name": "stdout",
     "output_type": "stream",
     "text": [
      "-10\n",
      "-5\n",
      "0\n",
      "5\n",
      "10\n",
      "-9\n",
      "-4\n",
      "1\n",
      "6\n",
      "11\n",
      "-8\n",
      "-3\n",
      "2\n",
      "7\n",
      "12\n",
      "-7\n",
      "-2\n",
      "3\n",
      "8\n",
      "13\n",
      "-6\n",
      "-1\n",
      "4\n",
      "9\n",
      "14\n",
      "-5\n",
      "0\n",
      "5\n",
      "10\n",
      "15\n",
      "-4\n",
      "1\n",
      "6\n",
      "11\n",
      "16\n",
      "-3\n",
      "2\n",
      "7\n",
      "12\n",
      "17\n",
      "-2\n",
      "3\n",
      "8\n",
      "13\n",
      "18\n",
      "-1\n",
      "4\n",
      "9\n",
      "14\n",
      "19\n",
      "0\n",
      "5\n",
      "10\n",
      "15\n",
      "20\n",
      "1\n",
      "6\n",
      "11\n",
      "16\n",
      "21\n",
      "2\n",
      "7\n",
      "12\n",
      "17\n",
      "22\n",
      "3\n",
      "8\n",
      "13\n",
      "18\n",
      "23\n"
     ]
    }
   ],
   "source": [
    "#shuffle dataset\n",
    "np.random.seed(68)\n",
    "spam_tra = spam_data[\"training_data\"]\n",
    "shuffleFun(spam_tra)\n",
    "\n",
    "np.random.seed(68)\n",
    "spam_tra_y = spam_data[\"training_labels\"]\n",
    "shuffleFun(spam_tra_y)\n",
    "\n",
    "## cross validation\n",
    "indice = int(0.2*len(spam_tra))\n",
    "indices = []\n",
    "for i in range(5):\n",
    "    indices.append(i*indice)\n",
    "indices.append(len(spam_tra))\n",
    "\n",
    "#train the model\n",
    "\n",
    "error_val_spam = []\n",
    "\n",
    "for c in range(-10,4,1):\n",
    "    clf_spam_c = svm.SVC(C=10**c, kernel = 'linear')\n",
    "    error_val_spam_c = []\n",
    "    for i in range(5):\n",
    "        spam_x_val = spam_tra[indices[i]:indices[i + 1]]\n",
    "        spam_x_train = np.concatenate((spam_tra[0:indices[i]],spam_tra[indices[i + 1]:]), axis = 0)\n",
    "        print(i*5 + c)\n",
    "    \n",
    "        spam_y_val = spam_tra_y[indices[i]:indices[i + 1]]\n",
    "        spam_y_train = np.concatenate((spam_tra_y[0:indices[i]],spam_tra_y[indices[i + 1]:]), axis = 0)\n",
    "    \n",
    "        clf_spam_c.fit(spam_x_train, spam_y_train.ravel())\n",
    "        y_pred_val = clf_spam_c.predict(spam_x_val)\n",
    "        error_val_spam_c.append(sm.accuracy_score(spam_y_val, y_pred_val))\n",
    "    error_val_spam.append(np.average(error_val_spam_c))"
   ]
  },
  {
   "cell_type": "code",
   "execution_count": 5,
   "metadata": {},
   "outputs": [
    {
     "name": "stdout",
     "output_type": "stream",
     "text": [
      "-10\n",
      "-9\n",
      "-8\n",
      "-7\n",
      "-6\n",
      "-5\n",
      "-4\n",
      "-3\n",
      "-2\n",
      "-1\n",
      "0\n",
      "1\n",
      "2\n",
      "3\n"
     ]
    },
    {
     "data": {
      "image/png": "[encoded data removed]",
      "text/plain": [
       "<Figure size 600x400 with 1 Axes>"
      ]
     },
     "metadata": {},
     "output_type": "display_data"
    },
    {
     "data": {
      "text/plain": [
       "[0.70996728975452383,\n",
       " 0.70996728975452383,\n",
       " 0.70996728975452383,\n",
       " 0.70996728975452383,\n",
       " 0.70996728975452383,\n",
       " 0.70996728975452383,\n",
       " 0.71770124642465061,\n",
       " 0.75077145396294331,\n",
       " 0.77842430714771127,\n",
       " 0.79660313809249983,\n",
       " 0.8014349939881853,\n",
       " 0.80433522773948307,\n",
       " 0.80472207493484083,\n",
       " 0.8049151251278911]"
      ]
     },
     "execution_count": 5,
     "metadata": {},
     "output_type": "execute_result"
    }
   ],
   "source": [
    "## draw the error line\n",
    "paramC = []\n",
    "for c in range(-10,4,1):\n",
    "    paramC.append(c)\n",
    "    print(c)\n",
    "    \n",
    "%matplotlib inline\n",
    "plt.xlabel(\"Value of C in training MNIST dataset\")\n",
    "plt.ylabel(\"Accuracy\")\n",
    "plt.plot(paramC, error_val_spam, label=\"validation\")\n",
    "plt.show()\n",
    "error_val_spam"
   ]
  },
  {
   "cell_type": "markdown",
   "metadata": {},
   "source": [
    "### 6.Kaggle"
   ]
  },
  {
   "cell_type": "code",
   "execution_count": 4,
   "metadata": {
    "collapsed": true
   },
   "outputs": [],
   "source": [
    "def shuffleFun(data):\n",
    "    np.random.shuffle(data)\n",
    "\n",
    "# For the MNIST dataset, write code that sets aside 10,000 training images as a validation set.\n",
    "MNIST_data = io.loadmat(\"data/mnist_data.mat\")\n",
    "\n",
    "#shuffle dataset\n",
    "np.random.seed(58)\n",
    "MNIST_tra = MNIST_data[\"training_data\"]\n",
    "shuffleFun(MNIST_tra)\n",
    "MNIST_test = MNIST_data[\"test_data\"]\n",
    "\n",
    "np.random.seed(58)\n",
    "MNIST_tra_y = MNIST_data[\"training_labels\"]\n",
    "shuffleFun(MNIST_tra_y)\n",
    "\n",
    "# For the spam dataset, write code that sets aside 20% of the training data as a validation set.\n",
    "spam_data = io.loadmat(\"data/spam_data.mat\")\n",
    "\n",
    "#shuffle dataset\n",
    "np.random.seed(68)\n",
    "spam_tra = spam_data[\"training_data\"]\n",
    "shuffleFun(spam_tra)\n",
    "spam_test = spam_data[\"test_data\"]\n",
    "\n",
    "np.random.seed(68)\n",
    "spam_tra_y = spam_data[\"training_labels\"]\n",
    "shuffleFun(spam_tra_y)\n",
    "\n",
    "# For the CIFAR-10 dataset, write code that sets aside 5,000 training images as a validation set.\n",
    "# Be sure to shuffle your data before splitting it to make sure all the classes are represented in\n",
    "# your partitions.\n",
    "cifar10_data = io.loadmat(\"data/cifar10_data.mat\")\n",
    "\n",
    "#shuffle dataset\n",
    "np.random.seed(78)\n",
    "cifar10_tra = cifar10_data[\"training_data\"]\n",
    "shuffleFun(cifar10_tra)\n",
    "cifar10_test = cifar10_data[\"test_data\"]\n",
    "\n",
    "np.random.seed(78)\n",
    "cifar10_tra_y = cifar10_data[\"training_labels\"]\n",
    "shuffleFun(cifar10_tra_y)"
   ]
  },
  {
   "cell_type": "code",
   "execution_count": 5,
   "metadata": {},
   "outputs": [],
   "source": [
    "#mnist\n",
    "clf_mnist = svm.SVC(C=10**(-6), kernel = 'linear')\n",
    "clf_mnist.fit(MNIST_tra, MNIST_tra_y.ravel())\n",
    "y_pred_test = clf_mnist.predict(MNIST_test)\n",
    "np.savetxt('mnist_test.csv', y_pred_test, delimiter = ',')"
   ]
  },
  {
   "cell_type": "code",
   "execution_count": null,
   "metadata": {
    "collapsed": true
   },
   "outputs": [],
   "source": [
    "#spam\n",
    "clf_spam = svm.SVC(C=10**2, kernel = 'linear')\n",
    "clf_spam.fit(spam_tra, spam_tra_y.ravel())\n",
    "y_pred_test = clf_spam.predict(spam_test)\n",
    "np.savetxt('spam_test.csv', y_pred_test, delimiter = ',')"
   ]
  },
  {
   "cell_type": "code",
   "execution_count": null,
   "metadata": {
    "collapsed": true
   },
   "outputs": [],
   "source": [
    "#cifar10\n",
    "clf_cifar10 = svm.SVC(kernel = 'linear')\n",
    "clf_cifar10.fit(cifar10_tra, cifar10_tra_y.ravel())\n",
    "y_pred_test = clf_cifar10.predict(cifar10_test)\n",
    "np.savetxt('cifar10_test.csv', y_pred_test, delimiter = ',')"
   ]
  },
  {
   "cell_type": "markdown",
   "metadata": {},
   "source": [
    "##### 7.Theory of Hard-Margin Support Vector Machines"
   ]
  },
  {
   "cell_type": "code",
   "execution_count": null,
   "metadata": {
    "collapsed": true
   },
   "outputs": [],
   "source": []
  }
 ],
 "metadata": {
  "kernelspec": {
   "display_name": "Python 3",
   "language": "python",
   "name": "python3"
  },
  "language_info": {
   "codemirror_mode": {
    "name": "ipython",
    "version": 3
   },
   "file_extension": ".py",
   "mimetype": "text/x-python",
   "name": "python",
   "nbconvert_exporter": "python",
   "pygments_lexer": "ipython3",
   "version": "3.5.5"
  }
 },
 "nbformat": 4,
 "nbformat_minor": 2
}
